{
 "cells": [
  {
   "cell_type": "markdown",
   "metadata": {},
   "source": [
    "# Analysis Report VIII\n",
    "Identificando e removendo Outliers"
   ]
  },
  {
   "cell_type": "markdown",
   "metadata": {},
   "source": [
    "## Loading dataset"
   ]
  },
  {
   "cell_type": "code",
   "execution_count": 1,
   "metadata": {},
   "outputs": [],
   "source": [
    "# libs\n",
    "import numpy as np\n",
    "import pandas as pd\n",
    "\n",
    "import matplotlib.pyplot as plt\n",
    "%matplotlib inline\n",
    "plt.rc('figure', figsize = (14,6))"
   ]
  },
  {
   "cell_type": "code",
   "execution_count": 2,
   "metadata": {},
   "outputs": [
    {
     "name": "stdout",
     "output_type": "stream",
     "text": [
      "(23051, 11)\n"
     ]
    },
    {
     "data": {
      "text/html": [
       "<div>\n",
       "<style scoped>\n",
       "    .dataframe tbody tr th:only-of-type {\n",
       "        vertical-align: middle;\n",
       "    }\n",
       "\n",
       "    .dataframe tbody tr th {\n",
       "        vertical-align: top;\n",
       "    }\n",
       "\n",
       "    .dataframe thead th {\n",
       "        text-align: right;\n",
       "    }\n",
       "</style>\n",
       "<table border=\"1\" class=\"dataframe\">\n",
       "  <thead>\n",
       "    <tr style=\"text-align: right;\">\n",
       "      <th></th>\n",
       "      <th>Tipo</th>\n",
       "      <th>Bairro</th>\n",
       "      <th>Quartos</th>\n",
       "      <th>Vagas</th>\n",
       "      <th>Suites</th>\n",
       "      <th>Area</th>\n",
       "      <th>Valor</th>\n",
       "      <th>Condominio</th>\n",
       "      <th>IPTU</th>\n",
       "      <th>Valor m2</th>\n",
       "      <th>Tipo Agregado</th>\n",
       "    </tr>\n",
       "  </thead>\n",
       "  <tbody>\n",
       "    <tr>\n",
       "      <th>0</th>\n",
       "      <td>Quitinete</td>\n",
       "      <td>Copacabana</td>\n",
       "      <td>1</td>\n",
       "      <td>0</td>\n",
       "      <td>0</td>\n",
       "      <td>40</td>\n",
       "      <td>1700.0</td>\n",
       "      <td>500.0</td>\n",
       "      <td>60.0</td>\n",
       "      <td>42.50</td>\n",
       "      <td>Apartmento</td>\n",
       "    </tr>\n",
       "    <tr>\n",
       "      <th>1</th>\n",
       "      <td>Casa</td>\n",
       "      <td>Jardim Botânico</td>\n",
       "      <td>2</td>\n",
       "      <td>0</td>\n",
       "      <td>1</td>\n",
       "      <td>100</td>\n",
       "      <td>7000.0</td>\n",
       "      <td>0.0</td>\n",
       "      <td>0.0</td>\n",
       "      <td>70.00</td>\n",
       "      <td>Casa</td>\n",
       "    </tr>\n",
       "    <tr>\n",
       "      <th>2</th>\n",
       "      <td>Apartamento</td>\n",
       "      <td>Centro</td>\n",
       "      <td>1</td>\n",
       "      <td>0</td>\n",
       "      <td>0</td>\n",
       "      <td>15</td>\n",
       "      <td>800.0</td>\n",
       "      <td>390.0</td>\n",
       "      <td>20.0</td>\n",
       "      <td>53.33</td>\n",
       "      <td>Apartmento</td>\n",
       "    </tr>\n",
       "    <tr>\n",
       "      <th>3</th>\n",
       "      <td>Apartamento</td>\n",
       "      <td>Higienópolis</td>\n",
       "      <td>1</td>\n",
       "      <td>0</td>\n",
       "      <td>0</td>\n",
       "      <td>48</td>\n",
       "      <td>800.0</td>\n",
       "      <td>230.0</td>\n",
       "      <td>0.0</td>\n",
       "      <td>16.67</td>\n",
       "      <td>Apartmento</td>\n",
       "    </tr>\n",
       "    <tr>\n",
       "      <th>4</th>\n",
       "      <td>Apartamento</td>\n",
       "      <td>Vista Alegre</td>\n",
       "      <td>3</td>\n",
       "      <td>1</td>\n",
       "      <td>0</td>\n",
       "      <td>70</td>\n",
       "      <td>1200.0</td>\n",
       "      <td>0.0</td>\n",
       "      <td>0.0</td>\n",
       "      <td>17.14</td>\n",
       "      <td>Apartmento</td>\n",
       "    </tr>\n",
       "  </tbody>\n",
       "</table>\n",
       "</div>"
      ],
      "text/plain": [
       "          Tipo           Bairro  Quartos  Vagas  Suites  Area   Valor  \\\n",
       "0    Quitinete       Copacabana        1      0       0    40  1700.0   \n",
       "1         Casa  Jardim Botânico        2      0       1   100  7000.0   \n",
       "2  Apartamento           Centro        1      0       0    15   800.0   \n",
       "3  Apartamento     Higienópolis        1      0       0    48   800.0   \n",
       "4  Apartamento     Vista Alegre        3      1       0    70  1200.0   \n",
       "\n",
       "   Condominio  IPTU  Valor m2 Tipo Agregado  \n",
       "0       500.0  60.0     42.50    Apartmento  \n",
       "1         0.0   0.0     70.00          Casa  \n",
       "2       390.0  20.0     53.33    Apartmento  \n",
       "3       230.0   0.0     16.67    Apartmento  \n",
       "4         0.0   0.0     17.14    Apartmento  "
      ]
     },
     "execution_count": 2,
     "metadata": {},
     "output_type": "execute_result"
    }
   ],
   "source": [
    "df_residential_prep = pd.read_csv('datasets/residential_prep.csv', sep=';')\n",
    "print(df_residential_prep.shape)\n",
    "df_residential_prep.head()"
   ]
  },
  {
   "cell_type": "markdown",
   "metadata": {},
   "source": [
    "## Data outliers"
   ]
  },
  {
   "cell_type": "markdown",
   "metadata": {},
   "source": [
    "<img src=\"assets/compressed_box-plot.png\" alt=\"\" width=70%>"
   ]
  },
  {
   "cell_type": "markdown",
   "metadata": {},
   "source": [
    "### Valor"
   ]
  },
  {
   "cell_type": "code",
   "execution_count": 49,
   "metadata": {},
   "outputs": [
    {
     "data": {
      "text/plain": [
       "<matplotlib.axes._subplots.AxesSubplot at 0x7fbdbc717d60>"
      ]
     },
     "execution_count": 49,
     "metadata": {},
     "output_type": "execute_result"
    },
    {
     "data": {
      "image/png": "[encoded data removed]",
      "text/plain": [
       "<Figure size 1008x432 with 1 Axes>"
      ]
     },
     "metadata": {
      "needs_background": "light"
     },
     "output_type": "display_data"
    }
   ],
   "source": [
    "df_residential_prep.boxplot(['Valor'])"
   ]
  },
  {
   "cell_type": "code",
   "execution_count": 50,
   "metadata": {},
   "outputs": [
    {
     "name": "stdout",
     "output_type": "stream",
     "text": [
      "Q1 = 1550.0 \r\n",
      "Q2 = 5400.0 \r\n",
      "IIQ = 3850.0 \r\n",
      "minimum = -4225.0 \r\n",
      "maximum = 11175.0\n"
     ]
    }
   ],
   "source": [
    "# boxplot statistcs\n",
    "prices = df_residential_prep.Valor\n",
    "Q1 = prices.quantile(.25)\n",
    "Q3 = prices.quantile(.75)\n",
    "IIQ = Q3 - Q1\n",
    "minimum = Q1 - 1.5 * IIQ\n",
    "maximum = Q3 + 1.5 * IIQ\n",
    "\n",
    "print(\n",
    "    f'Q1 = {Q1} \\r\\n'\\\n",
    "    f'Q3 = {Q3} \\r\\n'\\\n",
    "    f'IIQ = {IIQ} \\r\\n'\\\n",
    "    f'minimum = {minimum} \\r\\n'\\\n",
    "    f'maximum = {maximum}'\n",
    ")"
   ]
  },
  {
   "cell_type": "code",
   "execution_count": 51,
   "metadata": {
    "scrolled": true
   },
   "outputs": [
    {
     "data": {
      "text/html": [
       "<div>\n",
       "<style scoped>\n",
       "    .dataframe tbody tr th:only-of-type {\n",
       "        vertical-align: middle;\n",
       "    }\n",
       "\n",
       "    .dataframe tbody tr th {\n",
       "        vertical-align: top;\n",
       "    }\n",
       "\n",
       "    .dataframe thead th {\n",
       "        text-align: right;\n",
       "    }\n",
       "</style>\n",
       "<table border=\"1\" class=\"dataframe\">\n",
       "  <thead>\n",
       "    <tr style=\"text-align: right;\">\n",
       "      <th></th>\n",
       "      <th>Tipo</th>\n",
       "      <th>Bairro</th>\n",
       "      <th>Quartos</th>\n",
       "      <th>Vagas</th>\n",
       "      <th>Suites</th>\n",
       "      <th>Area</th>\n",
       "      <th>Valor</th>\n",
       "      <th>Condominio</th>\n",
       "      <th>IPTU</th>\n",
       "      <th>Valor m2</th>\n",
       "      <th>Tipo Agregado</th>\n",
       "    </tr>\n",
       "  </thead>\n",
       "  <tbody>\n",
       "    <tr>\n",
       "      <th>0</th>\n",
       "      <td>Quitinete</td>\n",
       "      <td>Copacabana</td>\n",
       "      <td>1</td>\n",
       "      <td>0</td>\n",
       "      <td>0</td>\n",
       "      <td>40</td>\n",
       "      <td>1700.0</td>\n",
       "      <td>500.0</td>\n",
       "      <td>60.0</td>\n",
       "      <td>42.50</td>\n",
       "      <td>Apartmento</td>\n",
       "    </tr>\n",
       "    <tr>\n",
       "      <th>1</th>\n",
       "      <td>Casa</td>\n",
       "      <td>Jardim Botânico</td>\n",
       "      <td>2</td>\n",
       "      <td>0</td>\n",
       "      <td>1</td>\n",
       "      <td>100</td>\n",
       "      <td>7000.0</td>\n",
       "      <td>0.0</td>\n",
       "      <td>0.0</td>\n",
       "      <td>70.00</td>\n",
       "      <td>Casa</td>\n",
       "    </tr>\n",
       "    <tr>\n",
       "      <th>2</th>\n",
       "      <td>Apartamento</td>\n",
       "      <td>Centro</td>\n",
       "      <td>1</td>\n",
       "      <td>0</td>\n",
       "      <td>0</td>\n",
       "      <td>15</td>\n",
       "      <td>800.0</td>\n",
       "      <td>390.0</td>\n",
       "      <td>20.0</td>\n",
       "      <td>53.33</td>\n",
       "      <td>Apartmento</td>\n",
       "    </tr>\n",
       "    <tr>\n",
       "      <th>3</th>\n",
       "      <td>Apartamento</td>\n",
       "      <td>Higienópolis</td>\n",
       "      <td>1</td>\n",
       "      <td>0</td>\n",
       "      <td>0</td>\n",
       "      <td>48</td>\n",
       "      <td>800.0</td>\n",
       "      <td>230.0</td>\n",
       "      <td>0.0</td>\n",
       "      <td>16.67</td>\n",
       "      <td>Apartmento</td>\n",
       "    </tr>\n",
       "    <tr>\n",
       "      <th>4</th>\n",
       "      <td>Apartamento</td>\n",
       "      <td>Vista Alegre</td>\n",
       "      <td>3</td>\n",
       "      <td>1</td>\n",
       "      <td>0</td>\n",
       "      <td>70</td>\n",
       "      <td>1200.0</td>\n",
       "      <td>0.0</td>\n",
       "      <td>0.0</td>\n",
       "      <td>17.14</td>\n",
       "      <td>Apartmento</td>\n",
       "    </tr>\n",
       "  </tbody>\n",
       "</table>\n",
       "</div>"
      ],
      "text/plain": [
       "          Tipo           Bairro  Quartos  Vagas  Suites  Area   Valor  \\\n",
       "0    Quitinete       Copacabana        1      0       0    40  1700.0   \n",
       "1         Casa  Jardim Botânico        2      0       1   100  7000.0   \n",
       "2  Apartamento           Centro        1      0       0    15   800.0   \n",
       "3  Apartamento     Higienópolis        1      0       0    48   800.0   \n",
       "4  Apartamento     Vista Alegre        3      1       0    70  1200.0   \n",
       "\n",
       "   Condominio  IPTU  Valor m2 Tipo Agregado  \n",
       "0       500.0  60.0     42.50    Apartmento  \n",
       "1         0.0   0.0     70.00          Casa  \n",
       "2       390.0  20.0     53.33    Apartmento  \n",
       "3       230.0   0.0     16.67    Apartmento  \n",
       "4         0.0   0.0     17.14    Apartmento  "
      ]
     },
     "execution_count": 51,
     "metadata": {},
     "output_type": "execute_result"
    }
   ],
   "source": [
    "# filtering data between max and min edges\n",
    "mask = (df_residential_prep.Valor >= minimum) & (df_residential_prep.Valor <= maximum)\n",
    "df_no_outliers_valor = df_residential_prep[mask]\n",
    "\n",
    "df_no_outliers_valor.head()"
   ]
  },
  {
   "cell_type": "code",
   "execution_count": 52,
   "metadata": {},
   "outputs": [
    {
     "data": {
      "text/plain": [
       "array([[<matplotlib.axes._subplots.AxesSubplot object at 0x7fbdbc4f3760>]],\n",
       "      dtype=object)"
      ]
     },
     "execution_count": 52,
     "metadata": {},
     "output_type": "execute_result"
    },
    {
     "data": {
      "image/png": "[encoded data removed]",
      "text/plain": [
       "<Figure size 1008x432 with 1 Axes>"
      ]
     },
     "metadata": {
      "needs_background": "light"
     },
     "output_type": "display_data"
    },
    {
     "data": {
      "image/png": "[encoded data removed]",
      "text/plain": [
       "<Figure size 1008x432 with 1 Axes>"
      ]
     },
     "metadata": {
      "needs_background": "light"
     },
     "output_type": "display_data"
    }
   ],
   "source": [
    "# analysing price frequency by ranges\n",
    "df_residential_prep.hist(['Valor'])\n",
    "df_no_outliers_valor.hist(['Valor'])"
   ]
  },
  {
   "cell_type": "markdown",
   "metadata": {},
   "source": [
    "### Valor m2"
   ]
  },
  {
   "cell_type": "code",
   "execution_count": 53,
   "metadata": {},
   "outputs": [
    {
     "data": {
      "text/plain": [
       "<matplotlib.axes._subplots.AxesSubplot at 0x7fbda9451820>"
      ]
     },
     "execution_count": 53,
     "metadata": {},
     "output_type": "execute_result"
    },
    {
     "data": {
      "image/png": "[encoded data removed]",
      "text/plain": [
       "<Figure size 1008x432 with 1 Axes>"
      ]
     },
     "metadata": {
      "needs_background": "light"
     },
     "output_type": "display_data"
    }
   ],
   "source": [
    "df_residential_prep.boxplot(['Valor m2'])"
   ]
  },
  {
   "cell_type": "code",
   "execution_count": 54,
   "metadata": {},
   "outputs": [
    {
     "name": "stdout",
     "output_type": "stream",
     "text": [
      "Q1 = 21.05 \r\n",
      "Q2 = 42.86 \r\n",
      "IIQ = 21.81 \r\n",
      "minimum = -11.664999999999996 \r\n",
      "maximum = 75.57499999999999\n"
     ]
    }
   ],
   "source": [
    "# boxplot statistcs\n",
    "prices = df_residential_prep['Valor m2']\n",
    "Q1 = prices.quantile(.25)\n",
    "Q3 = prices.quantile(.75)\n",
    "IIQ = Q3 - Q1\n",
    "minimum = Q1 - 1.5 * IIQ\n",
    "maximum = Q3 + 1.5 * IIQ\n",
    "\n",
    "print(\n",
    "    f'Q1 = {Q1} \\r\\n'\\\n",
    "    f'Q2 = {Q3} \\r\\n'\\\n",
    "    f'IIQ = {IIQ} \\r\\n'\\\n",
    "    f'minimum = {minimum} \\r\\n'\\\n",
    "    f'maximum = {maximum}'\n",
    ")"
   ]
  },
  {
   "cell_type": "code",
   "execution_count": 55,
   "metadata": {
    "scrolled": true
   },
   "outputs": [
    {
     "data": {
      "text/html": [
       "<div>\n",
       "<style scoped>\n",
       "    .dataframe tbody tr th:only-of-type {\n",
       "        vertical-align: middle;\n",
       "    }\n",
       "\n",
       "    .dataframe tbody tr th {\n",
       "        vertical-align: top;\n",
       "    }\n",
       "\n",
       "    .dataframe thead th {\n",
       "        text-align: right;\n",
       "    }\n",
       "</style>\n",
       "<table border=\"1\" class=\"dataframe\">\n",
       "  <thead>\n",
       "    <tr style=\"text-align: right;\">\n",
       "      <th></th>\n",
       "      <th>Tipo</th>\n",
       "      <th>Bairro</th>\n",
       "      <th>Quartos</th>\n",
       "      <th>Vagas</th>\n",
       "      <th>Suites</th>\n",
       "      <th>Area</th>\n",
       "      <th>Valor</th>\n",
       "      <th>Condominio</th>\n",
       "      <th>IPTU</th>\n",
       "      <th>Valor m2</th>\n",
       "      <th>Tipo Agregado</th>\n",
       "    </tr>\n",
       "  </thead>\n",
       "  <tbody>\n",
       "    <tr>\n",
       "      <th>0</th>\n",
       "      <td>Quitinete</td>\n",
       "      <td>Copacabana</td>\n",
       "      <td>1</td>\n",
       "      <td>0</td>\n",
       "      <td>0</td>\n",
       "      <td>40</td>\n",
       "      <td>1700.0</td>\n",
       "      <td>500.0</td>\n",
       "      <td>60.0</td>\n",
       "      <td>42.50</td>\n",
       "      <td>Apartmento</td>\n",
       "    </tr>\n",
       "    <tr>\n",
       "      <th>1</th>\n",
       "      <td>Casa</td>\n",
       "      <td>Jardim Botânico</td>\n",
       "      <td>2</td>\n",
       "      <td>0</td>\n",
       "      <td>1</td>\n",
       "      <td>100</td>\n",
       "      <td>7000.0</td>\n",
       "      <td>0.0</td>\n",
       "      <td>0.0</td>\n",
       "      <td>70.00</td>\n",
       "      <td>Casa</td>\n",
       "    </tr>\n",
       "    <tr>\n",
       "      <th>2</th>\n",
       "      <td>Apartamento</td>\n",
       "      <td>Centro</td>\n",
       "      <td>1</td>\n",
       "      <td>0</td>\n",
       "      <td>0</td>\n",
       "      <td>15</td>\n",
       "      <td>800.0</td>\n",
       "      <td>390.0</td>\n",
       "      <td>20.0</td>\n",
       "      <td>53.33</td>\n",
       "      <td>Apartmento</td>\n",
       "    </tr>\n",
       "    <tr>\n",
       "      <th>3</th>\n",
       "      <td>Apartamento</td>\n",
       "      <td>Higienópolis</td>\n",
       "      <td>1</td>\n",
       "      <td>0</td>\n",
       "      <td>0</td>\n",
       "      <td>48</td>\n",
       "      <td>800.0</td>\n",
       "      <td>230.0</td>\n",
       "      <td>0.0</td>\n",
       "      <td>16.67</td>\n",
       "      <td>Apartmento</td>\n",
       "    </tr>\n",
       "    <tr>\n",
       "      <th>4</th>\n",
       "      <td>Apartamento</td>\n",
       "      <td>Vista Alegre</td>\n",
       "      <td>3</td>\n",
       "      <td>1</td>\n",
       "      <td>0</td>\n",
       "      <td>70</td>\n",
       "      <td>1200.0</td>\n",
       "      <td>0.0</td>\n",
       "      <td>0.0</td>\n",
       "      <td>17.14</td>\n",
       "      <td>Apartmento</td>\n",
       "    </tr>\n",
       "  </tbody>\n",
       "</table>\n",
       "</div>"
      ],
      "text/plain": [
       "          Tipo           Bairro  Quartos  Vagas  Suites  Area   Valor  \\\n",
       "0    Quitinete       Copacabana        1      0       0    40  1700.0   \n",
       "1         Casa  Jardim Botânico        2      0       1   100  7000.0   \n",
       "2  Apartamento           Centro        1      0       0    15   800.0   \n",
       "3  Apartamento     Higienópolis        1      0       0    48   800.0   \n",
       "4  Apartamento     Vista Alegre        3      1       0    70  1200.0   \n",
       "\n",
       "   Condominio  IPTU  Valor m2 Tipo Agregado  \n",
       "0       500.0  60.0     42.50    Apartmento  \n",
       "1         0.0   0.0     70.00          Casa  \n",
       "2       390.0  20.0     53.33    Apartmento  \n",
       "3       230.0   0.0     16.67    Apartmento  \n",
       "4         0.0   0.0     17.14    Apartmento  "
      ]
     },
     "execution_count": 55,
     "metadata": {},
     "output_type": "execute_result"
    }
   ],
   "source": [
    "# filtering data between max and min edges\n",
    "mask = (df_residential_prep['Valor m2'] >= minimum) & (df_residential_prep['Valor m2'] <= maximum)\n",
    "df_no_outliers_valor_m2 = df_residential_prep[mask]\n",
    "\n",
    "df_no_outliers_valor_m2.head()"
   ]
  },
  {
   "cell_type": "code",
   "execution_count": 56,
   "metadata": {},
   "outputs": [
    {
     "data": {
      "text/plain": [
       "array([[<matplotlib.axes._subplots.AxesSubplot object at 0x7fbda94c79a0>]],\n",
       "      dtype=object)"
      ]
     },
     "execution_count": 56,
     "metadata": {},
     "output_type": "execute_result"
    },
    {
     "data": {
      "image/png": "[encoded data removed]",
      "text/plain": [
       "<Figure size 1008x432 with 1 Axes>"
      ]
     },
     "metadata": {
      "needs_background": "light"
     },
     "output_type": "display_data"
    },
    {
     "data": {
      "image/png": "[encoded data removed]",
      "text/plain": [
       "<Figure size 1008x432 with 1 Axes>"
      ]
     },
     "metadata": {
      "needs_background": "light"
     },
     "output_type": "display_data"
    }
   ],
   "source": [
    "# analysing price frequency by ranges\n",
    "df_residential_prep.hist(['Valor m2'])\n",
    "df_no_outliers_valor_m2.hist(['Valor m2'])"
   ]
  },
  {
   "cell_type": "markdown",
   "metadata": {},
   "source": [
    "### Limpando outliers de cada tipo de imóvel"
   ]
  },
  {
   "cell_type": "code",
   "execution_count": 61,
   "metadata": {},
   "outputs": [
    {
     "name": "stderr",
     "output_type": "stream",
     "text": [
      "/Users/gabrielbernardo/opt/anaconda3/envs/alura/lib/python3.8/site-packages/numpy/core/_asarray.py:102: VisibleDeprecationWarning: Creating an ndarray from ragged nested sequences (which is a list-or-tuple of lists-or-tuples-or ndarrays with different lengths or shapes) is deprecated. If you meant to do this, you must specify 'dtype=object' when creating the ndarray.\n",
      "  return array(a, dtype, copy=False, order=order)\n"
     ]
    },
    {
     "data": {
      "text/plain": [
       "<matplotlib.axes._subplots.AxesSubplot at 0x7fbd989b7ac0>"
      ]
     },
     "execution_count": 61,
     "metadata": {},
     "output_type": "execute_result"
    },
    {
     "data": {
      "image/png": "[encoded data removed]",
      "text/plain": [
       "<Figure size 1008x432 with 1 Axes>"
      ]
     },
     "metadata": {
      "needs_background": "light"
     },
     "output_type": "display_data"
    }
   ],
   "source": [
    "df_residential_prep.boxplot(['Valor'], by = ['Tipo'])"
   ]
  },
  {
   "cell_type": "code",
   "execution_count": 63,
   "metadata": {},
   "outputs": [
    {
     "data": {
      "text/plain": [
       "{'Apartamento': [2, 3, 4, 5, 8, 9, 10, 11, 13, 16, 17, 18, 20, 21, 23, 24, 25, 27, 28, 29, 30, 31, 33, 34, 35, 36, 37, 38, 39, 40, 41, 42, 43, 44, 45, 47, 48, 49, 50, 51, 52, 53, 54, 55, 56, 57, 59, 60, 63, 64, 65, 66, 67, 68, 69, 70, 71, 72, 73, 74, 76, 77, 78, 79, 80, 81, 83, 84, 85, 87, 88, 89, 90, 92, 93, 94, 95, 96, 97, 98, 99, 100, 102, 103, 104, 107, 108, 109, 110, 111, 112, 113, 114, 115, 116, 117, 118, 119, 120, 121, ...], 'Casa': [1, 26, 58, 61, 101, 105, 153, 169, 191, 252, 264, 267, 278, 302, 326, 332, 350, 355, 373, 394, 401, 415, 441, 451, 492, 493, 499, 532, 565, 566, 591, 595, 596, 644, 647, 656, 662, 663, 688, 705, 729, 750, 754, 790, 801, 812, 891, 909, 976, 1025, 1074, 1082, 1168, 1173, 1175, 1208, 1230, 1305, 1312, 1376, 1395, 1410, 1433, 1478, 1492, 1496, 1508, 1513, 1540, 1543, 1557, 1658, 1678, 1734, 1740, 1744, 1751, 1764, 1791, 1799, 1847, 1900, 1925, 1966, 1997, 2026, 2035, 2053, 2117, 2137, 2154, 2174, 2201, 2207, 2208, 2235, 2274, 2306, 2309, 2316, ...], 'Casa de Condomínio': [6, 7, 15, 19, 46, 62, 175, 177, 194, 221, 236, 260, 273, 279, 295, 307, 324, 352, 407, 417, 457, 462, 466, 523, 579, 635, 648, 685, 691, 702, 736, 753, 813, 842, 844, 898, 920, 924, 973, 997, 1001, 1022, 1029, 1035, 1048, 1052, 1073, 1129, 1143, 1161, 1179, 1199, 1209, 1234, 1276, 1283, 1285, 1295, 1302, 1367, 1372, 1380, 1401, 1417, 1470, 1505, 1506, 1535, 1565, 1602, 1632, 1654, 1673, 1689, 1723, 1795, 1805, 1812, 1841, 1849, 1857, 1891, 1950, 1971, 1974, 1991, 2031, 2129, 2131, 2170, 2256, 2272, 2305, 2331, 2355, 2357, 2439, 2445, 2471, 2485, ...], 'Casa de Vila': [86, 226, 234, 319, 348, 726, 857, 879, 957, 1056, 1413, 1423, 1515, 1561, 1624, 1715, 1749, 1785, 1856, 2187, 2358, 2376, 2560, 2654, 2670, 2729, 2765, 2861, 2983, 3019, 3130, 3137, 3171, 3179, 3476, 3609, 3706, 3900, 4026, 4062, 4065, 4070, 4316, 4370, 4377, 4389, 4570, 4685, 5087, 5429, 5451, 5456, 5480, 5583, 5710, 5841, 5909, 6043, 6073, 6244, 6283, 6333, 6347, 6371, 6389, 6549, 6586, 6653, 6705, 6761, 6788, 7135, 7177, 7329, 7348, 7428, 7489, 7545, 7710, 8129, 8146, 8220, 8281, 8287, 8419, 8459, 8594, 8903, 8930, 9064, 9743, 9748, 9835, 10004, 10158, 10165, 10268, 10291, 10340, 10428, ...], 'Flat': [14, 22, 148, 149, 205, 281, 468, 548, 590, 752, 802, 817, 899, 936, 938, 1058, 1079, 1111, 1137, 1158, 1244, 1260, 1321, 1414, 1425, 1468, 1473, 1477, 1507, 1560, 1675, 1709, 1747, 1771, 1837, 1873, 1888, 1896, 1952, 2021, 2175, 2319, 2339, 2394, 2432, 2451, 2581, 2582, 2626, 2647, 2661, 2692, 2769, 2779, 2801, 2814, 2848, 2875, 2894, 2921, 2970, 2990, 3050, 3146, 3190, 3217, 3222, 3238, 3246, 3256, 3273, 3296, 3323, 3352, 3389, 3443, 3470, 3483, 3577, 3754, 3788, 3795, 3812, 3907, 3941, 4039, 4071, 4089, 4155, 4157, 4207, 4331, 4474, 4547, 4573, 4579, 4590, 4600, 4783, 4807, ...], 'Quitinete': [0, 12, 32, 75, 82, 91, 106, 126, 155, 184, 203, 220, 237, 262, 317, 330, 343, 360, 371, 442, 443, 444, 478, 505, 554, 659, 678, 709, 843, 906, 956, 958, 963, 967, 978, 983, 1010, 1045, 1061, 1090, 1117, 1207, 1221, 1223, 1236, 1246, 1250, 1268, 1273, 1317, 1331, 1394, 1411, 1421, 1455, 1467, 1471, 1551, 1566, 1580, 1614, 1667, 1685, 1687, 1708, 1777, 1778, 1788, 1817, 1838, 1859, 1914, 1929, 1943, 2002, 2110, 2185, 2198, 2226, 2246, 2253, 2260, 2264, 2334, 2345, 2348, 2367, 2381, 2438, 2476, 2496, 2497, 2498, 2508, 2559, 2571, 2576, 2610, 2627, 2754, ...], 'Studio': [4814, 5705, 10450, 19628]}"
      ]
     },
     "execution_count": 63,
     "metadata": {},
     "output_type": "execute_result"
    }
   ],
   "source": [
    "# grouping by type\n",
    "grouped_types = df_residential_prep.groupby('Tipo')['Valor']\n",
    "\n",
    "grouped_types.groups"
   ]
  },
  {
   "cell_type": "code",
   "execution_count": 64,
   "metadata": {},
   "outputs": [
    {
     "name": "stdout",
     "output_type": "stream",
     "text": [
      "Q1 = Tipo\n",
      "Apartamento           1600.0\n",
      "Casa                  1100.0\n",
      "Casa de Condomínio    4000.0\n",
      "Casa de Vila           750.0\n",
      "Flat                  2500.0\n",
      "Quitinete              900.0\n",
      "Studio                1500.0\n",
      "Name: Valor, dtype: float64 \r\n",
      "Q2 = Tipo\n",
      "Apartamento            5000.0\n",
      "Casa                   9800.0\n",
      "Casa de Condomínio    15250.0\n",
      "Casa de Vila           1800.0\n",
      "Flat                   6000.0\n",
      "Quitinete              1500.0\n",
      "Studio                 2450.0\n",
      "Name: Valor, dtype: float64 \r\n",
      "IIQ = Tipo\n",
      "Apartamento            3400.0\n",
      "Casa                   8700.0\n",
      "Casa de Condomínio    11250.0\n",
      "Casa de Vila           1050.0\n",
      "Flat                   3500.0\n",
      "Quitinete               600.0\n",
      "Studio                  950.0\n",
      "Name: Valor, dtype: float64 \r\n",
      "minimum = Tipo\n",
      "Apartamento           -3500.0\n",
      "Casa                 -11950.0\n",
      "Casa de Condomínio   -12875.0\n",
      "Casa de Vila           -825.0\n",
      "Flat                  -2750.0\n",
      "Quitinete                 0.0\n",
      "Studio                   75.0\n",
      "Name: Valor, dtype: float64 \r\n",
      "maximum = Tipo\n",
      "Apartamento           10100.0\n",
      "Casa                  22850.0\n",
      "Casa de Condomínio    32125.0\n",
      "Casa de Vila           3375.0\n",
      "Flat                  11250.0\n",
      "Quitinete              2400.0\n",
      "Studio                 3875.0\n",
      "Name: Valor, dtype: float64\n"
     ]
    }
   ],
   "source": [
    "# boxplot statistcs\n",
    "Q1 = grouped_types.quantile(.25)\n",
    "Q3 = grouped_types.quantile(.75)\n",
    "IIQ = Q3 - Q1\n",
    "minimum = Q1 - 1.5 * IIQ\n",
    "maximum = Q3 + 1.5 * IIQ\n",
    "\n",
    "print(\n",
    "    f'Q1 = {Q1} \\r\\n'\\\n",
    "    f'Q2 = {Q3} \\r\\n'\\\n",
    "    f'IIQ = {IIQ} \\r\\n'\\\n",
    "    f'minimum = {minimum} \\r\\n'\\\n",
    "    f'maximum = {maximum}'\n",
    ")"
   ]
  },
  {
   "cell_type": "code",
   "execution_count": 69,
   "metadata": {
    "scrolled": true
   },
   "outputs": [
    {
     "data": {
      "text/html": [
       "<div>\n",
       "<style scoped>\n",
       "    .dataframe tbody tr th:only-of-type {\n",
       "        vertical-align: middle;\n",
       "    }\n",
       "\n",
       "    .dataframe tbody tr th {\n",
       "        vertical-align: top;\n",
       "    }\n",
       "\n",
       "    .dataframe thead th {\n",
       "        text-align: right;\n",
       "    }\n",
       "</style>\n",
       "<table border=\"1\" class=\"dataframe\">\n",
       "  <thead>\n",
       "    <tr style=\"text-align: right;\">\n",
       "      <th></th>\n",
       "      <th>Tipo</th>\n",
       "      <th>Bairro</th>\n",
       "      <th>Quartos</th>\n",
       "      <th>Vagas</th>\n",
       "      <th>Suites</th>\n",
       "      <th>Area</th>\n",
       "      <th>Valor</th>\n",
       "      <th>Condominio</th>\n",
       "      <th>IPTU</th>\n",
       "      <th>Valor m2</th>\n",
       "      <th>Tipo Agregado</th>\n",
       "    </tr>\n",
       "  </thead>\n",
       "  <tbody>\n",
       "    <tr>\n",
       "      <th>2</th>\n",
       "      <td>Apartamento</td>\n",
       "      <td>Centro</td>\n",
       "      <td>1</td>\n",
       "      <td>0</td>\n",
       "      <td>0</td>\n",
       "      <td>15</td>\n",
       "      <td>800.0</td>\n",
       "      <td>390.0</td>\n",
       "      <td>20.0</td>\n",
       "      <td>53.33</td>\n",
       "      <td>Apartmento</td>\n",
       "    </tr>\n",
       "    <tr>\n",
       "      <th>3</th>\n",
       "      <td>Apartamento</td>\n",
       "      <td>Higienópolis</td>\n",
       "      <td>1</td>\n",
       "      <td>0</td>\n",
       "      <td>0</td>\n",
       "      <td>48</td>\n",
       "      <td>800.0</td>\n",
       "      <td>230.0</td>\n",
       "      <td>0.0</td>\n",
       "      <td>16.67</td>\n",
       "      <td>Apartmento</td>\n",
       "    </tr>\n",
       "    <tr>\n",
       "      <th>4</th>\n",
       "      <td>Apartamento</td>\n",
       "      <td>Vista Alegre</td>\n",
       "      <td>3</td>\n",
       "      <td>1</td>\n",
       "      <td>0</td>\n",
       "      <td>70</td>\n",
       "      <td>1200.0</td>\n",
       "      <td>0.0</td>\n",
       "      <td>0.0</td>\n",
       "      <td>17.14</td>\n",
       "      <td>Apartmento</td>\n",
       "    </tr>\n",
       "    <tr>\n",
       "      <th>5</th>\n",
       "      <td>Apartamento</td>\n",
       "      <td>Cachambi</td>\n",
       "      <td>2</td>\n",
       "      <td>0</td>\n",
       "      <td>0</td>\n",
       "      <td>50</td>\n",
       "      <td>1300.0</td>\n",
       "      <td>301.0</td>\n",
       "      <td>17.0</td>\n",
       "      <td>26.00</td>\n",
       "      <td>Apartmento</td>\n",
       "    </tr>\n",
       "    <tr>\n",
       "      <th>8</th>\n",
       "      <td>Apartamento</td>\n",
       "      <td>Centro</td>\n",
       "      <td>1</td>\n",
       "      <td>0</td>\n",
       "      <td>0</td>\n",
       "      <td>36</td>\n",
       "      <td>1200.0</td>\n",
       "      <td>0.0</td>\n",
       "      <td>0.0</td>\n",
       "      <td>33.33</td>\n",
       "      <td>Apartmento</td>\n",
       "    </tr>\n",
       "  </tbody>\n",
       "</table>\n",
       "</div>"
      ],
      "text/plain": [
       "          Tipo        Bairro  Quartos  Vagas  Suites  Area   Valor  \\\n",
       "2  Apartamento        Centro        1      0       0    15   800.0   \n",
       "3  Apartamento  Higienópolis        1      0       0    48   800.0   \n",
       "4  Apartamento  Vista Alegre        3      1       0    70  1200.0   \n",
       "5  Apartamento      Cachambi        2      0       0    50  1300.0   \n",
       "8  Apartamento        Centro        1      0       0    36  1200.0   \n",
       "\n",
       "   Condominio  IPTU  Valor m2 Tipo Agregado  \n",
       "2       390.0  20.0     53.33    Apartmento  \n",
       "3       230.0   0.0     16.67    Apartmento  \n",
       "4         0.0   0.0     17.14    Apartmento  \n",
       "5       301.0  17.0     26.00    Apartmento  \n",
       "8         0.0   0.0     33.33    Apartmento  "
      ]
     },
     "execution_count": 69,
     "metadata": {},
     "output_type": "execute_result"
    }
   ],
   "source": [
    "# filtering data between max and min limits for each type\n",
    "df_no_outliers_tipo_valor = pd.DataFrame()\n",
    "\n",
    "for r_type in grouped_types.groups.keys():\n",
    "    is_type = df_residential_prep.Tipo == r_type\n",
    "    is_betweeen_limits = (df_residential_prep['Valor'] >= minimum[r_type]) & (df_residential_prep['Valor'] <= maximum[r_type])\n",
    "    \n",
    "    mask = is_type & is_betweeen_limits\n",
    "    df_temp = df_residential_prep[mask]\n",
    "    \n",
    "    df_no_outliers_tipo_valor = pd.concat([df_no_outliers_tipo_valor, df_temp])\n",
    "    \n",
    "df_no_outliers_tipo_valor.head()"
   ]
  },
  {
   "cell_type": "code",
   "execution_count": 72,
   "metadata": {},
   "outputs": [
    {
     "name": "stderr",
     "output_type": "stream",
     "text": [
      "/Users/gabrielbernardo/opt/anaconda3/envs/alura/lib/python3.8/site-packages/numpy/core/_asarray.py:102: VisibleDeprecationWarning: Creating an ndarray from ragged nested sequences (which is a list-or-tuple of lists-or-tuples-or ndarrays with different lengths or shapes) is deprecated. If you meant to do this, you must specify 'dtype=object' when creating the ndarray.\n",
      "  return array(a, dtype, copy=False, order=order)\n"
     ]
    },
    {
     "data": {
      "text/plain": [
       "<matplotlib.axes._subplots.AxesSubplot at 0x7fbd6883c1f0>"
      ]
     },
     "execution_count": 72,
     "metadata": {},
     "output_type": "execute_result"
    },
    {
     "data": {
      "image/png": "[encoded data removed]",
      "text/plain": [
       "<Figure size 1008x432 with 1 Axes>"
      ]
     },
     "metadata": {
      "needs_background": "light"
     },
     "output_type": "display_data"
    }
   ],
   "source": [
    "# analysing price boxplot by each type\n",
    "df_no_outliers_tipo_valor.boxplot(['Valor'], by='Tipo')"
   ]
  }
 ],
 "metadata": {
  "kernelspec": {
   "display_name": "Python 3 (ipykernel)",
   "language": "python",
   "name": "python3"
  },
  "language_info": {
   "codemirror_mode": {
    "name": "ipython",
    "version": 3
   },
   "file_extension": ".py",
   "mimetype": "text/x-python",
   "name": "python",
   "nbconvert_exporter": "python",
   "pygments_lexer": "ipython3",
   "version": "3.8.11"
  }
 },
 "nbformat": 4,
 "nbformat_minor": 4
}
